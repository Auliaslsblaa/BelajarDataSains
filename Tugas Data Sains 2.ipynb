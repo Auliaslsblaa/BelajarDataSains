{
 "cells": [
  {
   "cell_type": "code",
   "execution_count": 1,
   "metadata": {},
   "outputs": [],
   "source": [
    "import pandas as pd"
   ]
  },
  {
   "cell_type": "code",
   "execution_count": 44,
   "metadata": {},
   "outputs": [
    {
     "data": {
      "text/html": [
       "<div>\n",
       "<style scoped>\n",
       "    .dataframe tbody tr th:only-of-type {\n",
       "        vertical-align: middle;\n",
       "    }\n",
       "\n",
       "    .dataframe tbody tr th {\n",
       "        vertical-align: top;\n",
       "    }\n",
       "\n",
       "    .dataframe thead th {\n",
       "        text-align: right;\n",
       "    }\n",
       "</style>\n",
       "<table border=\"1\" class=\"dataframe\">\n",
       "  <thead>\n",
       "    <tr style=\"text-align: right;\">\n",
       "      <th></th>\n",
       "      <th>brand</th>\n",
       "      <th>brand_short</th>\n",
       "      <th>product</th>\n",
       "      <th>product_short</th>\n",
       "      <th>hex</th>\n",
       "      <th>H</th>\n",
       "      <th>S</th>\n",
       "      <th>V</th>\n",
       "      <th>L</th>\n",
       "      <th>group</th>\n",
       "    </tr>\n",
       "  </thead>\n",
       "  <tbody>\n",
       "    <tr>\n",
       "      <th>0</th>\n",
       "      <td>Maybelline</td>\n",
       "      <td>mb</td>\n",
       "      <td>Fit Me</td>\n",
       "      <td>fmf</td>\n",
       "      <td>f3cfb3</td>\n",
       "      <td>26.0</td>\n",
       "      <td>0.26</td>\n",
       "      <td>0.95</td>\n",
       "      <td>86</td>\n",
       "      <td>2</td>\n",
       "    </tr>\n",
       "    <tr>\n",
       "      <th>1</th>\n",
       "      <td>Maybelline</td>\n",
       "      <td>mb</td>\n",
       "      <td>Fit Me</td>\n",
       "      <td>fmf</td>\n",
       "      <td>ffe3c2</td>\n",
       "      <td>32.0</td>\n",
       "      <td>0.24</td>\n",
       "      <td>1.00</td>\n",
       "      <td>92</td>\n",
       "      <td>2</td>\n",
       "    </tr>\n",
       "    <tr>\n",
       "      <th>2</th>\n",
       "      <td>Maybelline</td>\n",
       "      <td>mb</td>\n",
       "      <td>Fit Me</td>\n",
       "      <td>fmf</td>\n",
       "      <td>ffe0cd</td>\n",
       "      <td>23.0</td>\n",
       "      <td>0.20</td>\n",
       "      <td>1.00</td>\n",
       "      <td>91</td>\n",
       "      <td>2</td>\n",
       "    </tr>\n",
       "    <tr>\n",
       "      <th>3</th>\n",
       "      <td>Maybelline</td>\n",
       "      <td>mb</td>\n",
       "      <td>Fit Me</td>\n",
       "      <td>fmf</td>\n",
       "      <td>ffd3be</td>\n",
       "      <td>19.0</td>\n",
       "      <td>0.25</td>\n",
       "      <td>1.00</td>\n",
       "      <td>88</td>\n",
       "      <td>2</td>\n",
       "    </tr>\n",
       "    <tr>\n",
       "      <th>4</th>\n",
       "      <td>Maybelline</td>\n",
       "      <td>mb</td>\n",
       "      <td>Fit Me</td>\n",
       "      <td>fmf</td>\n",
       "      <td>bd9584</td>\n",
       "      <td>18.0</td>\n",
       "      <td>0.30</td>\n",
       "      <td>0.74</td>\n",
       "      <td>65</td>\n",
       "      <td>2</td>\n",
       "    </tr>\n",
       "  </tbody>\n",
       "</table>\n",
       "</div>"
      ],
      "text/plain": [
       "        brand brand_short product product_short     hex     H     S     V   L  \\\n",
       "0  Maybelline          mb  Fit Me           fmf  f3cfb3  26.0  0.26  0.95  86   \n",
       "1  Maybelline          mb  Fit Me           fmf  ffe3c2  32.0  0.24  1.00  92   \n",
       "2  Maybelline          mb  Fit Me           fmf  ffe0cd  23.0  0.20  1.00  91   \n",
       "3  Maybelline          mb  Fit Me           fmf  ffd3be  19.0  0.25  1.00  88   \n",
       "4  Maybelline          mb  Fit Me           fmf  bd9584  18.0  0.30  0.74  65   \n",
       "\n",
       "   group  \n",
       "0      2  \n",
       "1      2  \n",
       "2      2  \n",
       "3      2  \n",
       "4      2  "
      ]
     },
     "execution_count": 44,
     "metadata": {},
     "output_type": "execute_result"
    }
   ],
   "source": [
    "file='E:\\\\SEMESTER V\\\\Data Sains\\\\shades.csv'\n",
    "dataset=pd.read_csv(file)\n",
    "dataset.head()"
   ]
  },
  {
   "cell_type": "code",
   "execution_count": 6,
   "metadata": {},
   "outputs": [],
   "source": [
    "#Mencari Merk dan produk yang memiliki penjualan terbanyak (BEST SELLER)"
   ]
  },
  {
   "cell_type": "code",
   "execution_count": 13,
   "metadata": {},
   "outputs": [
    {
     "data": {
      "text/html": [
       "<div>\n",
       "<style scoped>\n",
       "    .dataframe tbody tr th:only-of-type {\n",
       "        vertical-align: middle;\n",
       "    }\n",
       "\n",
       "    .dataframe tbody tr th {\n",
       "        vertical-align: top;\n",
       "    }\n",
       "\n",
       "    .dataframe thead th {\n",
       "        text-align: right;\n",
       "    }\n",
       "</style>\n",
       "<table border=\"1\" class=\"dataframe\">\n",
       "  <thead>\n",
       "    <tr style=\"text-align: right;\">\n",
       "      <th></th>\n",
       "      <th>brand</th>\n",
       "      <th>product</th>\n",
       "    </tr>\n",
       "  </thead>\n",
       "  <tbody>\n",
       "    <tr>\n",
       "      <th>0</th>\n",
       "      <td>Maybelline</td>\n",
       "      <td>Fit Me</td>\n",
       "    </tr>\n",
       "    <tr>\n",
       "      <th>1</th>\n",
       "      <td>Maybelline</td>\n",
       "      <td>Fit Me</td>\n",
       "    </tr>\n",
       "    <tr>\n",
       "      <th>2</th>\n",
       "      <td>Maybelline</td>\n",
       "      <td>Fit Me</td>\n",
       "    </tr>\n",
       "    <tr>\n",
       "      <th>3</th>\n",
       "      <td>Maybelline</td>\n",
       "      <td>Fit Me</td>\n",
       "    </tr>\n",
       "    <tr>\n",
       "      <th>4</th>\n",
       "      <td>Maybelline</td>\n",
       "      <td>Fit Me</td>\n",
       "    </tr>\n",
       "  </tbody>\n",
       "</table>\n",
       "</div>"
      ],
      "text/plain": [
       "        brand product\n",
       "0  Maybelline  Fit Me\n",
       "1  Maybelline  Fit Me\n",
       "2  Maybelline  Fit Me\n",
       "3  Maybelline  Fit Me\n",
       "4  Maybelline  Fit Me"
      ]
     },
     "execution_count": 13,
     "metadata": {},
     "output_type": "execute_result"
    }
   ],
   "source": [
    "data1=dataset[['brand', 'product']] #menampilkan data yang diperlukan\n",
    "data1.head()"
   ]
  },
  {
   "cell_type": "code",
   "execution_count": 14,
   "metadata": {},
   "outputs": [
    {
     "data": {
      "text/plain": [
       "brand      0\n",
       "product    0\n",
       "dtype: int64"
      ]
     },
     "execution_count": 14,
     "metadata": {},
     "output_type": "execute_result"
    }
   ],
   "source": [
    "data1.isna().sum() #menghitung missing value"
   ]
  },
  {
   "cell_type": "code",
   "execution_count": 16,
   "metadata": {},
   "outputs": [
    {
     "data": {
      "text/html": [
       "<div>\n",
       "<style scoped>\n",
       "    .dataframe tbody tr th:only-of-type {\n",
       "        vertical-align: middle;\n",
       "    }\n",
       "\n",
       "    .dataframe tbody tr th {\n",
       "        vertical-align: top;\n",
       "    }\n",
       "\n",
       "    .dataframe thead th {\n",
       "        text-align: right;\n",
       "    }\n",
       "</style>\n",
       "<table border=\"1\" class=\"dataframe\">\n",
       "  <thead>\n",
       "    <tr style=\"text-align: right;\">\n",
       "      <th></th>\n",
       "      <th>brand</th>\n",
       "      <th>product</th>\n",
       "    </tr>\n",
       "  </thead>\n",
       "  <tbody>\n",
       "    <tr>\n",
       "      <th>count</th>\n",
       "      <td>625</td>\n",
       "      <td>625</td>\n",
       "    </tr>\n",
       "    <tr>\n",
       "      <th>unique</th>\n",
       "      <td>36</td>\n",
       "      <td>38</td>\n",
       "    </tr>\n",
       "    <tr>\n",
       "      <th>top</th>\n",
       "      <td>Maybelline</td>\n",
       "      <td>Studio Fix</td>\n",
       "    </tr>\n",
       "    <tr>\n",
       "      <th>freq</th>\n",
       "      <td>54</td>\n",
       "      <td>42</td>\n",
       "    </tr>\n",
       "  </tbody>\n",
       "</table>\n",
       "</div>"
      ],
      "text/plain": [
       "             brand     product\n",
       "count          625         625\n",
       "unique          36          38\n",
       "top     Maybelline  Studio Fix\n",
       "freq            54          42"
      ]
     },
     "execution_count": 16,
     "metadata": {},
     "output_type": "execute_result"
    }
   ],
   "source": [
    "data1.describe() #statistika deskriptif data"
   ]
  },
  {
   "cell_type": "code",
   "execution_count": 17,
   "metadata": {},
   "outputs": [],
   "source": [
    "import statistics"
   ]
  },
  {
   "cell_type": "code",
   "execution_count": 45,
   "metadata": {},
   "outputs": [],
   "source": [
    "data1_GROUPBY_brand = data1.groupby(\"brand\")"
   ]
  },
  {
   "cell_type": "code",
   "execution_count": 46,
   "metadata": {},
   "outputs": [
    {
     "data": {
      "text/plain": [
       "brand\n",
       "Addiction           17\n",
       "Beauty Bakerie      30\n",
       "Bharat & Doris       7\n",
       "Black Opal          12\n",
       "Black Up            18\n",
       "Blue Heaven          2\n",
       "Bobbi Brown         30\n",
       "Colorbar             3\n",
       "Covergirl + Olay    12\n",
       "Dior                 6\n",
       "Elsas Pro           11\n",
       "Estée Lauder        42\n",
       "Fenty               40\n",
       "Hegai and Ester     10\n",
       "House of Tara       11\n",
       "IPSA                 6\n",
       "Iman                 8\n",
       "Kate                 6\n",
       "Kuddy                5\n",
       "L'Oréal             36\n",
       "Lakmé                4\n",
       "Lancôme             40\n",
       "Laws of Nature      17\n",
       "Lotus Herbals        4\n",
       "MAC                 42\n",
       "Make Up For Ever    40\n",
       "Maybelline          54\n",
       "NARS                13\n",
       "Nykaa                5\n",
       "Olivia               4\n",
       "RMK                  9\n",
       "Revlon              22\n",
       "Shiseido             6\n",
       "Shu Uemera          11\n",
       "Trim & Prissy       13\n",
       "bareMinerals        29\n",
       "Name: brand, dtype: int64"
      ]
     },
     "execution_count": 46,
     "metadata": {},
     "output_type": "execute_result"
    }
   ],
   "source": [
    "data1_GROUPBY_brand[\"brand\"].count()"
   ]
  },
  {
   "cell_type": "code",
   "execution_count": 36,
   "metadata": {},
   "outputs": [],
   "source": [
    "data1_GROUPBY_product = data1.groupby(\"product\")"
   ]
  },
  {
   "cell_type": "code",
   "execution_count": 37,
   "metadata": {},
   "outputs": [
    {
     "data": {
      "text/plain": [
       "product\n",
       "#1 CAKE MIX               30\n",
       "ColorStay                 22\n",
       "Diorskin Forever           6\n",
       "Double Wear               42\n",
       "Fit Me                    40\n",
       "Fit Me Matte              14\n",
       "Flawless Finish            6\n",
       "Foundation                 4\n",
       "Foxy Finish               17\n",
       "Full Coverage             11\n",
       "Hi - Def                   7\n",
       "Infalliable               22\n",
       "Invisible Finish           4\n",
       "Liquid Foundation         13\n",
       "Make-Up Ecostay            4\n",
       "Matifying Fluid           18\n",
       "Matte Wear                 5\n",
       "Oil Free                  11\n",
       "PRO FILT'R                40\n",
       "Perfect Match              3\n",
       "Petal Skin Fluid          11\n",
       "Photo Perfect             10\n",
       "RMK Liquid                 9\n",
       "SKINgenius                 5\n",
       "Second to None             8\n",
       "Secret Skin Maker Zero     6\n",
       "Simply Ageless            12\n",
       "Skin Long-Wear            30\n",
       "Studio Fix                42\n",
       "Synchro Skin               6\n",
       "Teint Idole               40\n",
       "The Foundation            17\n",
       "True Color                12\n",
       "True Match                14\n",
       "Ultra HD                  40\n",
       "Velvet Matte              13\n",
       "X Factor                   2\n",
       "barePRO                   29\n",
       "Name: product, dtype: int64"
      ]
     },
     "execution_count": 37,
     "metadata": {},
     "output_type": "execute_result"
    }
   ],
   "source": [
    "data1_GROUPBY_product[\"product\"].count()"
   ]
  },
  {
   "cell_type": "code",
   "execution_count": 39,
   "metadata": {},
   "outputs": [],
   "source": [
    "data1_GROUPBY_brand_product = data1.groupby([\"brand\", \"product\"])"
   ]
  },
  {
   "cell_type": "code",
   "execution_count": 40,
   "metadata": {},
   "outputs": [
    {
     "data": {
      "text/plain": [
       "brand             product               \n",
       "Addiction         The Foundation            17\n",
       "Beauty Bakerie    #1 CAKE MIX               30\n",
       "Bharat & Doris    Liquid Foundation          7\n",
       "Black Opal        True Color                12\n",
       "Black Up          Matifying Fluid           18\n",
       "Blue Heaven       X Factor                   2\n",
       "Bobbi Brown       Skin Long-Wear            30\n",
       "Colorbar          Perfect Match              3\n",
       "Covergirl + Olay  Simply Ageless            12\n",
       "Dior              Diorskin Forever           6\n",
       "Elsas Pro         Full Coverage             11\n",
       "Estée Lauder      Double Wear               42\n",
       "Fenty             PRO FILT'R                40\n",
       "Hegai and Ester   Photo Perfect             10\n",
       "House of Tara     Oil Free                  11\n",
       "IPSA              Liquid Foundation          6\n",
       "Iman              Second to None             8\n",
       "Kate              Secret Skin Maker Zero     6\n",
       "Kuddy             Matte Wear                 5\n",
       "L'Oréal           Infalliable               22\n",
       "                  True Match                14\n",
       "Lakmé             Invisible Finish           4\n",
       "Lancôme           Teint Idole               40\n",
       "Laws of Nature    Foxy Finish               17\n",
       "Lotus Herbals     Make-Up Ecostay            4\n",
       "MAC               Studio Fix                42\n",
       "Make Up For Ever  Ultra HD                  40\n",
       "Maybelline        Fit Me                    40\n",
       "                  Fit Me Matte              14\n",
       "NARS              Velvet Matte              13\n",
       "Nykaa             SKINgenius                 5\n",
       "Olivia            Foundation                 4\n",
       "RMK               RMK Liquid                 9\n",
       "Revlon            ColorStay                 22\n",
       "Shiseido          Synchro Skin               6\n",
       "Shu Uemera        Petal Skin Fluid          11\n",
       "Trim & Prissy     Flawless Finish            6\n",
       "                  Hi - Def                   7\n",
       "bareMinerals      barePRO                   29\n",
       "Name: product, dtype: int64"
      ]
     },
     "execution_count": 40,
     "metadata": {},
     "output_type": "execute_result"
    }
   ],
   "source": [
    "data1_GROUPBY_brand_product[\"product\"].count()"
   ]
  },
  {
   "cell_type": "code",
   "execution_count": null,
   "metadata": {},
   "outputs": [],
   "source": []
  },
  {
   "cell_type": "code",
   "execution_count": null,
   "metadata": {},
   "outputs": [],
   "source": []
  }
 ],
 "metadata": {
  "kernelspec": {
   "display_name": "Python 3",
   "language": "python",
   "name": "python3"
  },
  "language_info": {
   "codemirror_mode": {
    "name": "ipython",
    "version": 3
   },
   "file_extension": ".py",
   "mimetype": "text/x-python",
   "name": "python",
   "nbconvert_exporter": "python",
   "pygments_lexer": "ipython3",
   "version": "3.8.3"
  }
 },
 "nbformat": 4,
 "nbformat_minor": 4
}
